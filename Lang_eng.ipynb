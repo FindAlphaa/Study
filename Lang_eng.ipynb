{
 "cells": [
  {
   "attachments": {},
   "cell_type": "markdown",
   "metadata": {},
   "source": [
    "### 문장 유사도 검사"
   ]
  },
  {
   "cell_type": "code",
   "execution_count": 2,
   "metadata": {},
   "outputs": [
    {
     "name": "stdout",
     "output_type": "stream",
     "text": [
      "0 1 2 3 \n",
      "1 0 1 2 \n",
      "2 1 2 3 \n",
      "3 2 3 2 \n",
      "2\n"
     ]
    }
   ],
   "source": [
    "str1 = input()\n",
    "str2 = input()\n",
    "cost = 2\n",
    "\n",
    "str1 = str1.split()\n",
    "str2 = str2.split()\n",
    "n = len(str1)+1\n",
    "m = len(str2)+1\n",
    "\n",
    "matrix = [[0]*n\n",
    "          for _ in range(m)]\n",
    "for i in range(n):\n",
    "  matrix[0][i] = i\n",
    "for j in range(m):\n",
    "  matrix[j][0] = j\n",
    "\n",
    "for i in range(1,m):\n",
    "  for j in range(1,n):\n",
    "    if str1[j-1] == str2[i-1]:\n",
    "      matrix[i][j] = matrix[i-1][j-1]\n",
    "    else:\n",
    "      a = matrix[i][j-1]+1\n",
    "      b = matrix[i-1][j]+1\n",
    "      c = matrix[i-1][j-1]+cost\n",
    "      min_num = min(a,b,c)\n",
    "      matrix[i][j] = min_num\n",
    "\n",
    "\n",
    "for i in range(m):\n",
    "  for j in range(n):\n",
    "    print(matrix[i][j], end=\" \")\n",
    "  print()\n",
    "print(matrix[-1][-1])"
   ]
  },
  {
   "attachments": {},
   "cell_type": "markdown",
   "metadata": {},
   "source": [
    "### 자모 분리"
   ]
  },
  {
   "cell_type": "code",
   "execution_count": 5,
   "metadata": {},
   "outputs": [],
   "source": [
    "chosung_list = [u'ㄱ',u'ㄲ',u'ㄴ',u'ㄷ',u'ㄸ',u'ㄹ',u'ㅁ',u'ㅂ',u'ㅃ',u'ㅅ',u'ㅆ',u'ㅇ',u'ㅈ',u'ㅉ',u'ㅊ',u'ㅋ',u'ㅌ',u'ㅍ',u'ㅎ']\n",
    "jungsung_list = [u'ㅏ',u'ㅐ',u'ㅑ',u'ㅒ',u'ㅓ',u'ㅔ',u'ㅕ',u'ㅖ',u'ㅗ',u'ㅘ',u'ㅙ',u'ㅚ',u'ㅛ',u'ㅜ',u'ㅝ',u'ㅞ',u'ㅟ',u'ㅠ',u'ㅡ',u'ㅢ',u'ㅣ']\n",
    "jongsung_list = [u'',u'ㄱ',u'ㄲ',u'ㄳ',u'ㄴ',u'ㄵ',u'ㄶ',u'ㄷ',u'ㄹ',u'ㄺ',u'ㄻ',u'ㄼ',u'ㄽ',u'ㄾ',u'ㄿ',u'ㅀ',u'ㅁ',u'ㅂ',u'ㅄ',u'ㅅ',u'ㅆ',u'ㅇ',u'ㅈ',u'ㅊ',u'ㅋ',u'ㅌ',u'ㅍ',u'ㅎ']\n",
    "\n",
    "# 자모분리\n",
    "def jamo_split(word):\n",
    "    \n",
    "    result = []\n",
    "    # 문자열을 문자 단위로 \n",
    "    for char in word:\n",
    "        \n",
    "        character_code = ord(char) # ord함수는 문자의 순서 위치 값을 반환(아스키코드)\n",
    "        \n",
    "        # 아스키코드로 한글영역 범위: 0xAC00 ~ 0xD7A3\n",
    "        # 따라서 아래 조건문은 한글이 아닐경우 실행되는 코드\n",
    "        if 0xD7A3 < character_code or character_code < 0xAC00:\n",
    "            result.append(char)\n",
    "            continue\n",
    "\n",
    "        # 한글인 경우 아스키코드를 이용해 초성, 중성, 종성의 인덱스 계산 \n",
    "        # 한글은 초성 19개, 중성 21개, 종성 28개로 이루어져 있음.\n",
    "        # (character_code - 0xAC00) 0xAC00을 기준으로 한글문자의 상대적인 위치를 나타냄\n",
    "\n",
    "        chosung_index = int((((character_code - 0xAC00) / 28) / 21) % 19) # 초성을 계산하기위해 28로 나눈뒤 21로 나눈뒤 19로 나눈 나머지 값\n",
    "        jungsung_index = int(((character_code - 0xAC00) / 28) % 21) # 중성을 계산하기 위해 28로 나눈뒤 21로 나눈 나머지 값\n",
    "        jongsung_index = int((character_code - 0xAC00) % 28) # 종성 계산을 위해 28로 나눔\n",
    "        \n",
    "        # 계산된 인덱스를 이용 -> 각 list에서 해당하는 값을 가져옴\n",
    "        chosung = chosung_list[chosung_index]\n",
    "        joongsung = jungsung_list[jungsung_index]\n",
    "        jongsung = jongsung_list[jongsung_index]\n",
    "        \n",
    "        result.append(chosung)\n",
    "        result.append(joongsung)\n",
    "        result.append(jongsung)\n",
    "\n",
    "    return \"\".join(result)"
   ]
  },
  {
   "cell_type": "code",
   "execution_count": 6,
   "metadata": {},
   "outputs": [],
   "source": [
    "# 거리 계산 함수\n",
    "def levenshtein_distance(str1, str2):\n",
    "    m = len(str1)\n",
    "    n = len(str2)\n",
    "    \n",
    "    # 배열 생성\n",
    "    matrix = np.zeros((m + 1, n + 1), dtype=int)\n",
    "    \n",
    "    # 배열 초기화\n",
    "    matrix[:, 0] = np.arange(m + 1)\n",
    "    matrix[0, :] = np.arange(n + 1)\n",
    "    \n",
    "    # 거리 계산\n",
    "    for i in range(1, m + 1):\n",
    "        for j in range(1, n + 1):\n",
    "            if str1[i - 1] == str2[j - 1]:\n",
    "                matrix[i, j] = matrix[i - 1, j - 1]\n",
    "            else:\n",
    "                matrix[i, j] = min(matrix[i - 1, j], matrix[i, j - 1], matrix[i - 1, j - 1]) + 1\n",
    "    \n",
    "    # Return the minimum edit distance\n",
    "    return matrix[m, n]"
   ]
  },
  {
   "cell_type": "code",
   "execution_count": 7,
   "metadata": {},
   "outputs": [
    {
     "name": "stdout",
     "output_type": "stream",
     "text": [
      "5\n"
     ]
    }
   ],
   "source": [
    "# str1 = \"intention\"\n",
    "# str2 = \"execution\"\n",
    "str1 = input()\n",
    "str2 = input()\n",
    "str1_jamo = jamo_split(str1)\n",
    "str2_jamo = jamo_split(str2)\n",
    "cost = 1\n",
    "\n",
    "\n",
    "n = len(str1_jamo)+1\n",
    "m = len(str2_jamo)+1\n",
    "\n",
    "matrix = [[0]*n\n",
    "          for _ in range(m)]\n",
    "for i in range(n):\n",
    "  matrix[0][i] = i\n",
    "for j in range(m):\n",
    "  matrix[j][0] = j\n",
    "\n",
    "for i in range(1,m):\n",
    "  for j in range(1,n):\n",
    "    if str1_jamo[j-1] == str2_jamo[i-1]:\n",
    "      matrix[i][j] = matrix[i-1][j-1]\n",
    "    else:\n",
    "      a = matrix[i][j-1]+1\n",
    "      b = matrix[i-1][j]+1\n",
    "      c = matrix[i-1][j-1]+cost\n",
    "      min_num = min(a,b,c)\n",
    "      matrix[i][j] = min_num\n",
    "\n",
    "print(matrix[-1][-1])"
   ]
  }
 ],
 "metadata": {
  "kernelspec": {
   "display_name": "main",
   "language": "python",
   "name": "python3"
  },
  "language_info": {
   "codemirror_mode": {
    "name": "ipython",
    "version": 3
   },
   "file_extension": ".py",
   "mimetype": "text/x-python",
   "name": "python",
   "nbconvert_exporter": "python",
   "pygments_lexer": "ipython3",
   "version": "3.8.16"
  },
  "orig_nbformat": 4
 },
 "nbformat": 4,
 "nbformat_minor": 2
}
